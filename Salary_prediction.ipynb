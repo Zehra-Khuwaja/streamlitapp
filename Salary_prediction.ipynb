{
 "cells": [
  {
   "cell_type": "code",
   "execution_count": 1,
   "id": "90633ff9",
   "metadata": {},
   "outputs": [],
   "source": [
    "import pandas as pd\n",
    "import numpy as np\n",
    "import matplotlib.pyplot as plt"
   ]
  },
  {
   "cell_type": "code",
   "execution_count": 2,
   "id": "525f648e",
   "metadata": {},
   "outputs": [
    {
     "data": {
      "text/html": [
       "<div>\n",
       "<style scoped>\n",
       "    .dataframe tbody tr th:only-of-type {\n",
       "        vertical-align: middle;\n",
       "    }\n",
       "\n",
       "    .dataframe tbody tr th {\n",
       "        vertical-align: top;\n",
       "    }\n",
       "\n",
       "    .dataframe thead th {\n",
       "        text-align: right;\n",
       "    }\n",
       "</style>\n",
       "<table border=\"1\" class=\"dataframe\">\n",
       "  <thead>\n",
       "    <tr style=\"text-align: right;\">\n",
       "      <th></th>\n",
       "      <th>full_name</th>\n",
       "      <th>rating</th>\n",
       "      <th>jersey</th>\n",
       "      <th>team</th>\n",
       "      <th>position</th>\n",
       "      <th>b_day</th>\n",
       "      <th>height</th>\n",
       "      <th>weight</th>\n",
       "      <th>salary</th>\n",
       "      <th>country</th>\n",
       "      <th>draft_year</th>\n",
       "      <th>draft_round</th>\n",
       "      <th>draft_peak</th>\n",
       "      <th>college</th>\n",
       "      <th>version</th>\n",
       "    </tr>\n",
       "  </thead>\n",
       "  <tbody>\n",
       "    <tr>\n",
       "      <th>0</th>\n",
       "      <td>LeBron James</td>\n",
       "      <td>97</td>\n",
       "      <td>#23</td>\n",
       "      <td>Los Angeles Lakers</td>\n",
       "      <td>F</td>\n",
       "      <td>12/30/84</td>\n",
       "      <td>6-9 / 2.06</td>\n",
       "      <td>250 lbs. / 113.4 kg.</td>\n",
       "      <td>$37436858</td>\n",
       "      <td>USA</td>\n",
       "      <td>2003</td>\n",
       "      <td>1</td>\n",
       "      <td>1</td>\n",
       "      <td>NaN</td>\n",
       "      <td>NBA2k20</td>\n",
       "    </tr>\n",
       "    <tr>\n",
       "      <th>1</th>\n",
       "      <td>Kawhi Leonard</td>\n",
       "      <td>97</td>\n",
       "      <td>#2</td>\n",
       "      <td>Los Angeles Clippers</td>\n",
       "      <td>F</td>\n",
       "      <td>06/29/91</td>\n",
       "      <td>6-7 / 2.01</td>\n",
       "      <td>225 lbs. / 102.1 kg.</td>\n",
       "      <td>$32742000</td>\n",
       "      <td>USA</td>\n",
       "      <td>2011</td>\n",
       "      <td>1</td>\n",
       "      <td>15</td>\n",
       "      <td>San Diego State</td>\n",
       "      <td>NBA2k20</td>\n",
       "    </tr>\n",
       "    <tr>\n",
       "      <th>2</th>\n",
       "      <td>Giannis Antetokounmpo</td>\n",
       "      <td>96</td>\n",
       "      <td>#34</td>\n",
       "      <td>Milwaukee Bucks</td>\n",
       "      <td>F-G</td>\n",
       "      <td>12/06/94</td>\n",
       "      <td>6-11 / 2.11</td>\n",
       "      <td>242 lbs. / 109.8 kg.</td>\n",
       "      <td>$25842697</td>\n",
       "      <td>Greece</td>\n",
       "      <td>2013</td>\n",
       "      <td>1</td>\n",
       "      <td>15</td>\n",
       "      <td>NaN</td>\n",
       "      <td>NBA2k20</td>\n",
       "    </tr>\n",
       "    <tr>\n",
       "      <th>3</th>\n",
       "      <td>Kevin Durant</td>\n",
       "      <td>96</td>\n",
       "      <td>#7</td>\n",
       "      <td>Brooklyn Nets</td>\n",
       "      <td>F</td>\n",
       "      <td>09/29/88</td>\n",
       "      <td>6-10 / 2.08</td>\n",
       "      <td>230 lbs. / 104.3 kg.</td>\n",
       "      <td>$37199000</td>\n",
       "      <td>USA</td>\n",
       "      <td>2007</td>\n",
       "      <td>1</td>\n",
       "      <td>2</td>\n",
       "      <td>Texas</td>\n",
       "      <td>NBA2k20</td>\n",
       "    </tr>\n",
       "    <tr>\n",
       "      <th>4</th>\n",
       "      <td>James Harden</td>\n",
       "      <td>96</td>\n",
       "      <td>#13</td>\n",
       "      <td>Houston Rockets</td>\n",
       "      <td>G</td>\n",
       "      <td>08/26/89</td>\n",
       "      <td>6-5 / 1.96</td>\n",
       "      <td>220 lbs. / 99.8 kg.</td>\n",
       "      <td>$38199000</td>\n",
       "      <td>USA</td>\n",
       "      <td>2009</td>\n",
       "      <td>1</td>\n",
       "      <td>3</td>\n",
       "      <td>Arizona State</td>\n",
       "      <td>NBA2k20</td>\n",
       "    </tr>\n",
       "    <tr>\n",
       "      <th>...</th>\n",
       "      <td>...</td>\n",
       "      <td>...</td>\n",
       "      <td>...</td>\n",
       "      <td>...</td>\n",
       "      <td>...</td>\n",
       "      <td>...</td>\n",
       "      <td>...</td>\n",
       "      <td>...</td>\n",
       "      <td>...</td>\n",
       "      <td>...</td>\n",
       "      <td>...</td>\n",
       "      <td>...</td>\n",
       "      <td>...</td>\n",
       "      <td>...</td>\n",
       "      <td>...</td>\n",
       "    </tr>\n",
       "    <tr>\n",
       "      <th>459</th>\n",
       "      <td>Chris Paul</td>\n",
       "      <td>88</td>\n",
       "      <td>#3</td>\n",
       "      <td>Oklahoma City Thunder</td>\n",
       "      <td>G</td>\n",
       "      <td>05/06/85</td>\n",
       "      <td>6-1 / 1.85</td>\n",
       "      <td>175 lbs. / 79.4 kg.</td>\n",
       "      <td>$41358814</td>\n",
       "      <td>USA</td>\n",
       "      <td>2005</td>\n",
       "      <td>1</td>\n",
       "      <td>4</td>\n",
       "      <td>Wake Forest</td>\n",
       "      <td>NBA2k21</td>\n",
       "    </tr>\n",
       "    <tr>\n",
       "      <th>460</th>\n",
       "      <td>Bradley Beal</td>\n",
       "      <td>88</td>\n",
       "      <td>#3</td>\n",
       "      <td>Washington Wizards</td>\n",
       "      <td>G</td>\n",
       "      <td>06/28/93</td>\n",
       "      <td>6-3 / 1.91</td>\n",
       "      <td>207 lbs. / 93.9 kg.</td>\n",
       "      <td>$28751774</td>\n",
       "      <td>USA</td>\n",
       "      <td>2012</td>\n",
       "      <td>1</td>\n",
       "      <td>3</td>\n",
       "      <td>Florida</td>\n",
       "      <td>NBA2k21</td>\n",
       "    </tr>\n",
       "    <tr>\n",
       "      <th>461</th>\n",
       "      <td>Rudy Gobert</td>\n",
       "      <td>87</td>\n",
       "      <td>#27</td>\n",
       "      <td>Utah Jazz</td>\n",
       "      <td>C</td>\n",
       "      <td>06/26/92</td>\n",
       "      <td>7-1 / 2.16</td>\n",
       "      <td>238 lbs. / 108 kg.</td>\n",
       "      <td>$27525281</td>\n",
       "      <td>France</td>\n",
       "      <td>2013</td>\n",
       "      <td>1</td>\n",
       "      <td>27</td>\n",
       "      <td>NaN</td>\n",
       "      <td>NBA2k21</td>\n",
       "    </tr>\n",
       "    <tr>\n",
       "      <th>462</th>\n",
       "      <td>Kyle Lowry</td>\n",
       "      <td>87</td>\n",
       "      <td>#7</td>\n",
       "      <td>Toronto Raptors</td>\n",
       "      <td>G</td>\n",
       "      <td>03/25/86</td>\n",
       "      <td>6-0 / 1.83</td>\n",
       "      <td>205 lbs. / 93 kg.</td>\n",
       "      <td>$30500000</td>\n",
       "      <td>USA</td>\n",
       "      <td>2006</td>\n",
       "      <td>1</td>\n",
       "      <td>24</td>\n",
       "      <td>Villanova</td>\n",
       "      <td>NBA2k21</td>\n",
       "    </tr>\n",
       "    <tr>\n",
       "      <th>463</th>\n",
       "      <td>Kristaps Porzingis</td>\n",
       "      <td>87</td>\n",
       "      <td>#6</td>\n",
       "      <td>Dallas Mavericks</td>\n",
       "      <td>F-C</td>\n",
       "      <td>08/02/95</td>\n",
       "      <td>7-3 / 2.21</td>\n",
       "      <td>220 lbs. / 99.8 kg.</td>\n",
       "      <td>$29467800</td>\n",
       "      <td>Latvia</td>\n",
       "      <td>2015</td>\n",
       "      <td>1</td>\n",
       "      <td>4</td>\n",
       "      <td>NaN</td>\n",
       "      <td>NBA2k21</td>\n",
       "    </tr>\n",
       "  </tbody>\n",
       "</table>\n",
       "<p>464 rows × 15 columns</p>\n",
       "</div>"
      ],
      "text/plain": [
       "                 full_name  rating jersey                   team position  \\\n",
       "0             LeBron James      97    #23     Los Angeles Lakers        F   \n",
       "1            Kawhi Leonard      97     #2   Los Angeles Clippers        F   \n",
       "2    Giannis Antetokounmpo      96    #34        Milwaukee Bucks      F-G   \n",
       "3             Kevin Durant      96     #7          Brooklyn Nets        F   \n",
       "4             James Harden      96    #13        Houston Rockets        G   \n",
       "..                     ...     ...    ...                    ...      ...   \n",
       "459             Chris Paul      88     #3  Oklahoma City Thunder        G   \n",
       "460           Bradley Beal      88     #3     Washington Wizards        G   \n",
       "461            Rudy Gobert      87    #27              Utah Jazz        C   \n",
       "462             Kyle Lowry      87     #7        Toronto Raptors        G   \n",
       "463     Kristaps Porzingis      87     #6       Dallas Mavericks      F-C   \n",
       "\n",
       "        b_day       height                weight     salary country  \\\n",
       "0    12/30/84   6-9 / 2.06  250 lbs. / 113.4 kg.  $37436858     USA   \n",
       "1    06/29/91   6-7 / 2.01  225 lbs. / 102.1 kg.  $32742000     USA   \n",
       "2    12/06/94  6-11 / 2.11  242 lbs. / 109.8 kg.  $25842697  Greece   \n",
       "3    09/29/88  6-10 / 2.08  230 lbs. / 104.3 kg.  $37199000     USA   \n",
       "4    08/26/89   6-5 / 1.96   220 lbs. / 99.8 kg.  $38199000     USA   \n",
       "..        ...          ...                   ...        ...     ...   \n",
       "459  05/06/85   6-1 / 1.85   175 lbs. / 79.4 kg.  $41358814     USA   \n",
       "460  06/28/93   6-3 / 1.91   207 lbs. / 93.9 kg.  $28751774     USA   \n",
       "461  06/26/92   7-1 / 2.16    238 lbs. / 108 kg.  $27525281  France   \n",
       "462  03/25/86   6-0 / 1.83     205 lbs. / 93 kg.  $30500000     USA   \n",
       "463  08/02/95   7-3 / 2.21   220 lbs. / 99.8 kg.  $29467800  Latvia   \n",
       "\n",
       "     draft_year draft_round draft_peak          college  version  \n",
       "0          2003           1          1              NaN  NBA2k20  \n",
       "1          2011           1         15  San Diego State  NBA2k20  \n",
       "2          2013           1         15              NaN  NBA2k20  \n",
       "3          2007           1          2            Texas  NBA2k20  \n",
       "4          2009           1          3    Arizona State  NBA2k20  \n",
       "..          ...         ...        ...              ...      ...  \n",
       "459        2005           1          4      Wake Forest  NBA2k21  \n",
       "460        2012           1          3          Florida  NBA2k21  \n",
       "461        2013           1         27              NaN  NBA2k21  \n",
       "462        2006           1         24        Villanova  NBA2k21  \n",
       "463        2015           1          4              NaN  NBA2k21  \n",
       "\n",
       "[464 rows x 15 columns]"
      ]
     },
     "execution_count": 2,
     "metadata": {},
     "output_type": "execute_result"
    }
   ],
   "source": [
    "df=pd.read_csv(r'C:\\Users\\Hp 840 G5\\Desktop\\ML\\streamlit_prac\\nba2k-full.csv')\n",
    "df"
   ]
  },
  {
   "cell_type": "code",
   "execution_count": 3,
   "id": "1487db12",
   "metadata": {},
   "outputs": [
    {
     "data": {
      "text/plain": [
       "(464, 15)"
      ]
     },
     "execution_count": 3,
     "metadata": {},
     "output_type": "execute_result"
    }
   ],
   "source": [
    "df.shape"
   ]
  },
  {
   "cell_type": "code",
   "execution_count": 4,
   "id": "e9c595da",
   "metadata": {},
   "outputs": [
    {
     "name": "stdout",
     "output_type": "stream",
     "text": [
      "<class 'pandas.core.frame.DataFrame'>\n",
      "RangeIndex: 464 entries, 0 to 463\n",
      "Data columns (total 15 columns):\n",
      " #   Column       Non-Null Count  Dtype \n",
      "---  ------       --------------  ----- \n",
      " 0   full_name    464 non-null    object\n",
      " 1   rating       464 non-null    int64 \n",
      " 2   jersey       464 non-null    object\n",
      " 3   team         441 non-null    object\n",
      " 4   position     464 non-null    object\n",
      " 5   b_day        464 non-null    object\n",
      " 6   height       464 non-null    object\n",
      " 7   weight       464 non-null    object\n",
      " 8   salary       464 non-null    object\n",
      " 9   country      464 non-null    object\n",
      " 10  draft_year   464 non-null    int64 \n",
      " 11  draft_round  464 non-null    object\n",
      " 12  draft_peak   464 non-null    object\n",
      " 13  college      388 non-null    object\n",
      " 14  version      464 non-null    object\n",
      "dtypes: int64(2), object(13)\n",
      "memory usage: 54.5+ KB\n"
     ]
    }
   ],
   "source": [
    "df.info()"
   ]
  },
  {
   "cell_type": "code",
   "execution_count": 5,
   "id": "21de0acf",
   "metadata": {},
   "outputs": [],
   "source": [
    "df=df.dropna()"
   ]
  },
  {
   "cell_type": "code",
   "execution_count": 6,
   "id": "60cfd010",
   "metadata": {},
   "outputs": [
    {
     "data": {
      "text/plain": [
       "0"
      ]
     },
     "execution_count": 6,
     "metadata": {},
     "output_type": "execute_result"
    }
   ],
   "source": [
    "df.isnull().sum().sum()"
   ]
  },
  {
   "cell_type": "code",
   "execution_count": 7,
   "id": "2363a5d2",
   "metadata": {},
   "outputs": [],
   "source": [
    "df=df.drop(['full_name', 'b_day', 'height', 'weight', 'college', 'version'], axis=1)"
   ]
  },
  {
   "cell_type": "code",
   "execution_count": 8,
   "id": "9d10921e",
   "metadata": {},
   "outputs": [],
   "source": [
    "def removehash(value):\n",
    "    value=value[1:]\n",
    "    return int(value)\n",
    "df['jersey']=df['jersey'].apply(removehash)"
   ]
  },
  {
   "cell_type": "code",
   "execution_count": 9,
   "id": "aaeb2cad",
   "metadata": {},
   "outputs": [],
   "source": [
    "df['salary']=df['salary'].apply(removehash)"
   ]
  },
  {
   "cell_type": "code",
   "execution_count": 10,
   "id": "01198419",
   "metadata": {},
   "outputs": [
    {
     "data": {
      "text/plain": [
       "country\n",
       "USA                   315\n",
       "Canada                 15\n",
       "Australia               8\n",
       "Cameroon                5\n",
       "Nigeria                 3\n",
       "The Bahamas             2\n",
       "Ukraine                 2\n",
       "Mali                    1\n",
       "Egypt                   1\n",
       "Haiti                   1\n",
       "Angola                  1\n",
       "Germany                 1\n",
       "Italy                   1\n",
       "United Kingdom          1\n",
       "Japan                   1\n",
       "Israel                  1\n",
       "Austria                 1\n",
       "Senegal                 1\n",
       "Puerto Rico             1\n",
       "Philippines             1\n",
       "Lithuania               1\n",
       "New Zealand             1\n",
       "Finland                 1\n",
       "Dominican Republic      1\n",
       "Montenegro              1\n",
       "Greece                  1\n",
       "Name: count, dtype: int64"
      ]
     },
     "execution_count": 10,
     "metadata": {},
     "output_type": "execute_result"
    }
   ],
   "source": [
    "df['country'].value_counts()"
   ]
  },
  {
   "cell_type": "code",
   "execution_count": 11,
   "id": "4bd470e2",
   "metadata": {},
   "outputs": [
    {
     "data": {
      "text/plain": [
       "country\n",
       "USA          315\n",
       "Others        31\n",
       "Canada        15\n",
       "Australia      8\n",
       "Name: count, dtype: int64"
      ]
     },
     "execution_count": 11,
     "metadata": {},
     "output_type": "execute_result"
    }
   ],
   "source": [
    "def removecountryoutliers(value):\n",
    "    if value not in ['USA', 'Canada', 'Australia']:\n",
    "        return 'Others'\n",
    "    else:\n",
    "        return value\n",
    "df['country']=df['country'].apply(removecountryoutliers)\n",
    "df['country'].value_counts()"
   ]
  },
  {
   "cell_type": "code",
   "execution_count": 12,
   "id": "a2155e2c",
   "metadata": {},
   "outputs": [
    {
     "data": {
      "text/plain": [
       "position\n",
       "G      166\n",
       "F      123\n",
       "C       31\n",
       "F-C     26\n",
       "G-F     11\n",
       "F-G      7\n",
       "C-F      5\n",
       "Name: count, dtype: int64"
      ]
     },
     "execution_count": 12,
     "metadata": {},
     "output_type": "execute_result"
    }
   ],
   "source": [
    "df['position'].value_counts()"
   ]
  },
  {
   "cell_type": "code",
   "execution_count": 13,
   "id": "5cfc6781",
   "metadata": {},
   "outputs": [
    {
     "data": {
      "text/plain": [
       "draft_round\n",
       "1            239\n",
       "2             78\n",
       "Undrafted     52\n",
       "Name: count, dtype: int64"
      ]
     },
     "execution_count": 13,
     "metadata": {},
     "output_type": "execute_result"
    }
   ],
   "source": [
    "df['draft_round'].value_counts()"
   ]
  },
  {
   "cell_type": "code",
   "execution_count": 14,
   "id": "1eeea708",
   "metadata": {},
   "outputs": [
    {
     "data": {
      "text/plain": [
       "draft_peak\n",
       "Undrafted    52\n",
       "2            15\n",
       "3            14\n",
       "1            14\n",
       "9            13\n",
       "4            12\n",
       "7            11\n",
       "11           11\n",
       "6            10\n",
       "12            9\n",
       "10            9\n",
       "13            9\n",
       "14            8\n",
       "8             8\n",
       "15            8\n",
       "5             8\n",
       "22            7\n",
       "19            7\n",
       "24            7\n",
       "30            7\n",
       "46            7\n",
       "20            6\n",
       "23            6\n",
       "27            6\n",
       "33            6\n",
       "40            5\n",
       "26            5\n",
       "21            5\n",
       "28            5\n",
       "38            5\n",
       "29            4\n",
       "16            4\n",
       "34            4\n",
       "17            4\n",
       "42            4\n",
       "18            4\n",
       "35            4\n",
       "47            4\n",
       "58            3\n",
       "50            3\n",
       "41            3\n",
       "25            3\n",
       "37            3\n",
       "32            3\n",
       "45            3\n",
       "44            2\n",
       "39            2\n",
       "36            2\n",
       "55            2\n",
       "43            2\n",
       "49            2\n",
       "31            2\n",
       "48            2\n",
       "51            2\n",
       "52            1\n",
       "54            1\n",
       "60            1\n",
       "Name: count, dtype: int64"
      ]
     },
     "execution_count": 14,
     "metadata": {},
     "output_type": "execute_result"
    }
   ],
   "source": [
    "df['draft_peak'].value_counts()"
   ]
  },
  {
   "cell_type": "code",
   "execution_count": 15,
   "id": "fe4535ae",
   "metadata": {},
   "outputs": [],
   "source": [
    "def removeundrafted(value):\n",
    "    if value=='Undrafted':\n",
    "        return\n",
    "    else:\n",
    "        return value\n",
    "df['draft_round']=df['draft_round'].apply(removeundrafted)\n",
    "df['draft_peak']=df['draft_peak'].apply(removeundrafted)"
   ]
  },
  {
   "cell_type": "code",
   "execution_count": 16,
   "id": "cdd025a1",
   "metadata": {},
   "outputs": [],
   "source": [
    "df=df.dropna()"
   ]
  },
  {
   "cell_type": "code",
   "execution_count": 17,
   "id": "84a56002",
   "metadata": {},
   "outputs": [],
   "source": [
    "from sklearn.preprocessing import LabelEncoder\n",
    "le=LabelEncoder()\n",
    "df['position']=le.fit_transform(df['position'])\n",
    "df['country']=le.fit_transform(df['country'])\n",
    "df['team']=le.fit_transform(df['team'])"
   ]
  },
  {
   "cell_type": "code",
   "execution_count": 18,
   "id": "7711c165",
   "metadata": {},
   "outputs": [
    {
     "data": {
      "text/html": [
       "<div>\n",
       "<style scoped>\n",
       "    .dataframe tbody tr th:only-of-type {\n",
       "        vertical-align: middle;\n",
       "    }\n",
       "\n",
       "    .dataframe tbody tr th {\n",
       "        vertical-align: top;\n",
       "    }\n",
       "\n",
       "    .dataframe thead th {\n",
       "        text-align: right;\n",
       "    }\n",
       "</style>\n",
       "<table border=\"1\" class=\"dataframe\">\n",
       "  <thead>\n",
       "    <tr style=\"text-align: right;\">\n",
       "      <th></th>\n",
       "      <th>rating</th>\n",
       "      <th>jersey</th>\n",
       "      <th>team</th>\n",
       "      <th>position</th>\n",
       "      <th>salary</th>\n",
       "      <th>country</th>\n",
       "      <th>draft_year</th>\n",
       "    </tr>\n",
       "  </thead>\n",
       "  <tbody>\n",
       "    <tr>\n",
       "      <th>count</th>\n",
       "      <td>317.000000</td>\n",
       "      <td>317.000000</td>\n",
       "      <td>317.000000</td>\n",
       "      <td>317.000000</td>\n",
       "      <td>3.170000e+02</td>\n",
       "      <td>317.000000</td>\n",
       "      <td>317.000000</td>\n",
       "    </tr>\n",
       "    <tr>\n",
       "      <th>mean</th>\n",
       "      <td>78.337539</td>\n",
       "      <td>13.839117</td>\n",
       "      <td>14.665615</td>\n",
       "      <td>3.362776</td>\n",
       "      <td>1.145762e+07</td>\n",
       "      <td>2.782334</td>\n",
       "      <td>2014.066246</td>\n",
       "    </tr>\n",
       "    <tr>\n",
       "      <th>std</th>\n",
       "      <td>6.820688</td>\n",
       "      <td>14.861682</td>\n",
       "      <td>8.431886</td>\n",
       "      <td>1.742326</td>\n",
       "      <td>1.178645e+07</td>\n",
       "      <td>0.589950</td>\n",
       "      <td>3.915891</td>\n",
       "    </tr>\n",
       "    <tr>\n",
       "      <th>min</th>\n",
       "      <td>68.000000</td>\n",
       "      <td>0.000000</td>\n",
       "      <td>0.000000</td>\n",
       "      <td>0.000000</td>\n",
       "      <td>7.956800e+04</td>\n",
       "      <td>0.000000</td>\n",
       "      <td>2003.000000</td>\n",
       "    </tr>\n",
       "    <tr>\n",
       "      <th>25%</th>\n",
       "      <td>73.000000</td>\n",
       "      <td>3.000000</td>\n",
       "      <td>8.000000</td>\n",
       "      <td>2.000000</td>\n",
       "      <td>2.351838e+06</td>\n",
       "      <td>3.000000</td>\n",
       "      <td>2011.000000</td>\n",
       "    </tr>\n",
       "    <tr>\n",
       "      <th>50%</th>\n",
       "      <td>77.000000</td>\n",
       "      <td>10.000000</td>\n",
       "      <td>15.000000</td>\n",
       "      <td>3.000000</td>\n",
       "      <td>6.500000e+06</td>\n",
       "      <td>3.000000</td>\n",
       "      <td>2015.000000</td>\n",
       "    </tr>\n",
       "    <tr>\n",
       "      <th>75%</th>\n",
       "      <td>82.000000</td>\n",
       "      <td>22.000000</td>\n",
       "      <td>22.000000</td>\n",
       "      <td>5.000000</td>\n",
       "      <td>1.564375e+07</td>\n",
       "      <td>3.000000</td>\n",
       "      <td>2017.000000</td>\n",
       "    </tr>\n",
       "    <tr>\n",
       "      <th>max</th>\n",
       "      <td>97.000000</td>\n",
       "      <td>99.000000</td>\n",
       "      <td>29.000000</td>\n",
       "      <td>6.000000</td>\n",
       "      <td>4.578097e+07</td>\n",
       "      <td>3.000000</td>\n",
       "      <td>2019.000000</td>\n",
       "    </tr>\n",
       "  </tbody>\n",
       "</table>\n",
       "</div>"
      ],
      "text/plain": [
       "           rating      jersey        team    position        salary  \\\n",
       "count  317.000000  317.000000  317.000000  317.000000  3.170000e+02   \n",
       "mean    78.337539   13.839117   14.665615    3.362776  1.145762e+07   \n",
       "std      6.820688   14.861682    8.431886    1.742326  1.178645e+07   \n",
       "min     68.000000    0.000000    0.000000    0.000000  7.956800e+04   \n",
       "25%     73.000000    3.000000    8.000000    2.000000  2.351838e+06   \n",
       "50%     77.000000   10.000000   15.000000    3.000000  6.500000e+06   \n",
       "75%     82.000000   22.000000   22.000000    5.000000  1.564375e+07   \n",
       "max     97.000000   99.000000   29.000000    6.000000  4.578097e+07   \n",
       "\n",
       "          country   draft_year  \n",
       "count  317.000000   317.000000  \n",
       "mean     2.782334  2014.066246  \n",
       "std      0.589950     3.915891  \n",
       "min      0.000000  2003.000000  \n",
       "25%      3.000000  2011.000000  \n",
       "50%      3.000000  2015.000000  \n",
       "75%      3.000000  2017.000000  \n",
       "max      3.000000  2019.000000  "
      ]
     },
     "execution_count": 18,
     "metadata": {},
     "output_type": "execute_result"
    }
   ],
   "source": [
    "df.describe()"
   ]
  },
  {
   "cell_type": "code",
   "execution_count": 19,
   "id": "851421c0",
   "metadata": {},
   "outputs": [],
   "source": [
    "x=df.drop(['salary'], axis=1)"
   ]
  },
  {
   "cell_type": "code",
   "execution_count": 20,
   "id": "0dbedcde",
   "metadata": {},
   "outputs": [],
   "source": [
    "y=df['salary']"
   ]
  },
  {
   "cell_type": "code",
   "execution_count": 21,
   "id": "55482ee7",
   "metadata": {},
   "outputs": [],
   "source": [
    "from sklearn.model_selection import train_test_split\n",
    "x_train, x_test, y_train, y_test=train_test_split(x,y, random_state=10, test_size=0.2)"
   ]
  },
  {
   "cell_type": "code",
   "execution_count": 22,
   "id": "748728fe",
   "metadata": {},
   "outputs": [
    {
     "data": {
      "text/html": [
       "<style>#sk-container-id-1 {color: black;}#sk-container-id-1 pre{padding: 0;}#sk-container-id-1 div.sk-toggleable {background-color: white;}#sk-container-id-1 label.sk-toggleable__label {cursor: pointer;display: block;width: 100%;margin-bottom: 0;padding: 0.3em;box-sizing: border-box;text-align: center;}#sk-container-id-1 label.sk-toggleable__label-arrow:before {content: \"▸\";float: left;margin-right: 0.25em;color: #696969;}#sk-container-id-1 label.sk-toggleable__label-arrow:hover:before {color: black;}#sk-container-id-1 div.sk-estimator:hover label.sk-toggleable__label-arrow:before {color: black;}#sk-container-id-1 div.sk-toggleable__content {max-height: 0;max-width: 0;overflow: hidden;text-align: left;background-color: #f0f8ff;}#sk-container-id-1 div.sk-toggleable__content pre {margin: 0.2em;color: black;border-radius: 0.25em;background-color: #f0f8ff;}#sk-container-id-1 input.sk-toggleable__control:checked~div.sk-toggleable__content {max-height: 200px;max-width: 100%;overflow: auto;}#sk-container-id-1 input.sk-toggleable__control:checked~label.sk-toggleable__label-arrow:before {content: \"▾\";}#sk-container-id-1 div.sk-estimator input.sk-toggleable__control:checked~label.sk-toggleable__label {background-color: #d4ebff;}#sk-container-id-1 div.sk-label input.sk-toggleable__control:checked~label.sk-toggleable__label {background-color: #d4ebff;}#sk-container-id-1 input.sk-hidden--visually {border: 0;clip: rect(1px 1px 1px 1px);clip: rect(1px, 1px, 1px, 1px);height: 1px;margin: -1px;overflow: hidden;padding: 0;position: absolute;width: 1px;}#sk-container-id-1 div.sk-estimator {font-family: monospace;background-color: #f0f8ff;border: 1px dotted black;border-radius: 0.25em;box-sizing: border-box;margin-bottom: 0.5em;}#sk-container-id-1 div.sk-estimator:hover {background-color: #d4ebff;}#sk-container-id-1 div.sk-parallel-item::after {content: \"\";width: 100%;border-bottom: 1px solid gray;flex-grow: 1;}#sk-container-id-1 div.sk-label:hover label.sk-toggleable__label {background-color: #d4ebff;}#sk-container-id-1 div.sk-serial::before {content: \"\";position: absolute;border-left: 1px solid gray;box-sizing: border-box;top: 0;bottom: 0;left: 50%;z-index: 0;}#sk-container-id-1 div.sk-serial {display: flex;flex-direction: column;align-items: center;background-color: white;padding-right: 0.2em;padding-left: 0.2em;position: relative;}#sk-container-id-1 div.sk-item {position: relative;z-index: 1;}#sk-container-id-1 div.sk-parallel {display: flex;align-items: stretch;justify-content: center;background-color: white;position: relative;}#sk-container-id-1 div.sk-item::before, #sk-container-id-1 div.sk-parallel-item::before {content: \"\";position: absolute;border-left: 1px solid gray;box-sizing: border-box;top: 0;bottom: 0;left: 50%;z-index: -1;}#sk-container-id-1 div.sk-parallel-item {display: flex;flex-direction: column;z-index: 1;position: relative;background-color: white;}#sk-container-id-1 div.sk-parallel-item:first-child::after {align-self: flex-end;width: 50%;}#sk-container-id-1 div.sk-parallel-item:last-child::after {align-self: flex-start;width: 50%;}#sk-container-id-1 div.sk-parallel-item:only-child::after {width: 0;}#sk-container-id-1 div.sk-dashed-wrapped {border: 1px dashed gray;margin: 0 0.4em 0.5em 0.4em;box-sizing: border-box;padding-bottom: 0.4em;background-color: white;}#sk-container-id-1 div.sk-label label {font-family: monospace;font-weight: bold;display: inline-block;line-height: 1.2em;}#sk-container-id-1 div.sk-label-container {text-align: center;}#sk-container-id-1 div.sk-container {/* jupyter's `normalize.less` sets `[hidden] { display: none; }` but bootstrap.min.css set `[hidden] { display: none !important; }` so we also need the `!important` here to be able to override the default hidden behavior on the sphinx rendered scikit-learn.org. See: https://github.com/scikit-learn/scikit-learn/issues/21755 */display: inline-block !important;position: relative;}#sk-container-id-1 div.sk-text-repr-fallback {display: none;}</style><div id=\"sk-container-id-1\" class=\"sk-top-container\"><div class=\"sk-text-repr-fallback\"><pre>LinearRegression()</pre><b>In a Jupyter environment, please rerun this cell to show the HTML representation or trust the notebook. <br />On GitHub, the HTML representation is unable to render, please try loading this page with nbviewer.org.</b></div><div class=\"sk-container\" hidden><div class=\"sk-item\"><div class=\"sk-estimator sk-toggleable\"><input class=\"sk-toggleable__control sk-hidden--visually\" id=\"sk-estimator-id-1\" type=\"checkbox\" checked><label for=\"sk-estimator-id-1\" class=\"sk-toggleable__label sk-toggleable__label-arrow\">LinearRegression</label><div class=\"sk-toggleable__content\"><pre>LinearRegression()</pre></div></div></div></div></div>"
      ],
      "text/plain": [
       "LinearRegression()"
      ]
     },
     "execution_count": 22,
     "metadata": {},
     "output_type": "execute_result"
    }
   ],
   "source": [
    "from sklearn.linear_model import LinearRegression\n",
    "lr=LinearRegression()\n",
    "lr.fit(x_train, y_train)"
   ]
  },
  {
   "cell_type": "code",
   "execution_count": 23,
   "id": "8619b027",
   "metadata": {},
   "outputs": [],
   "source": [
    "prediction=lr.predict(x_test)"
   ]
  },
  {
   "cell_type": "code",
   "execution_count": 24,
   "id": "8a81df1e",
   "metadata": {},
   "outputs": [
    {
     "data": {
      "text/plain": [
       "456    1.151829e+07\n",
       "423    2.055033e+06\n",
       "269    2.523294e+05\n",
       "217   -2.387665e+06\n",
       "80    -1.173612e+07\n",
       "           ...     \n",
       "438    2.378079e+06\n",
       "190   -6.068261e+06\n",
       "73    -6.383151e+06\n",
       "154    4.152852e+06\n",
       "44     3.261000e+06\n",
       "Name: salary, Length: 64, dtype: float64"
      ]
     },
     "execution_count": 24,
     "metadata": {},
     "output_type": "execute_result"
    }
   ],
   "source": [
    "dif=y_test-prediction\n",
    "dif"
   ]
  },
  {
   "cell_type": "code",
   "execution_count": 25,
   "id": "cd0e0aba",
   "metadata": {},
   "outputs": [
    {
     "name": "stderr",
     "output_type": "stream",
     "text": [
      "C:\\Users\\Hp 840 G5\\AppData\\Local\\Temp\\ipykernel_8040\\243247392.py:2: UserWarning: \n",
      "\n",
      "`distplot` is a deprecated function and will be removed in seaborn v0.14.0.\n",
      "\n",
      "Please adapt your code to use either `displot` (a figure-level function with\n",
      "similar flexibility) or `histplot` (an axes-level function for histograms).\n",
      "\n",
      "For a guide to updating your code to use the new functions, please see\n",
      "https://gist.github.com/mwaskom/de44147ed2974457ad6372750bbe5751\n",
      "\n",
      "  sns.distplot(dif)\n"
     ]
    },
    {
     "data": {
      "text/plain": [
       "<Axes: xlabel='salary', ylabel='Density'>"
      ]
     },
     "execution_count": 25,
     "metadata": {},
     "output_type": "execute_result"
    },
    {
     "data": {
      "image/png": "[encoded data removed]",
      "text/plain": [
       "<Figure size 640x480 with 1 Axes>"
      ]
     },
     "metadata": {},
     "output_type": "display_data"
    }
   ],
   "source": [
    "import seaborn as sns\n",
    "sns.distplot(dif)"
   ]
  },
  {
   "cell_type": "code",
   "execution_count": 28,
   "id": "8e9213d4",
   "metadata": {},
   "outputs": [
    {
     "data": {
      "text/plain": [
       "['C:/Users/Hp 840 G5/Desktop/ML/streamlit_prac/updatedmodel.csv']"
      ]
     },
     "execution_count": 28,
     "metadata": {},
     "output_type": "execute_result"
    }
   ],
   "source": [
    "import joblib\n",
    "joblib.dump(lr,'C:/Users/Hp 840 G5/Desktop/ML/streamlit_prac/updatedmodel.csv')\n"
   ]
  },
  {
   "cell_type": "code",
   "execution_count": null,
   "id": "0f02820e",
   "metadata": {},
   "outputs": [],
   "source": []
  }
 ],
 "metadata": {
  "kernelspec": {
   "display_name": "Python 3 (ipykernel)",
   "language": "python",
   "name": "python3"
  },
  "language_info": {
   "codemirror_mode": {
    "name": "ipython",
    "version": 3
   },
   "file_extension": ".py",
   "mimetype": "text/x-python",
   "name": "python",
   "nbconvert_exporter": "python",
   "pygments_lexer": "ipython3",
   "version": "3.11.5"
  }
 },
 "nbformat": 4,
 "nbformat_minor": 5
}
